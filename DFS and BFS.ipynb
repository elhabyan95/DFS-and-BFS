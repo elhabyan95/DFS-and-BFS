{
 "cells": [
  {
   "cell_type": "markdown",
   "metadata": {},
   "source": [
    "# Lab 3"
   ]
  },
  {
   "cell_type": "markdown",
   "metadata": {},
   "source": [
    "# intialize stack"
   ]
  },
  {
   "cell_type": "code",
   "execution_count": 76,
   "metadata": {},
   "outputs": [],
   "source": [
    "class Stack:\n",
    "    \n",
    "    counter = 0\n",
    "    size = 10\n",
    "    lst = []  \n",
    "    \n",
    "    def isEmpty(self):\n",
    "        if self.counter == 0:\n",
    "            return True\n",
    "        else :\n",
    "            return False\n",
    "        \n",
    "    def isFull(self):\n",
    "        if self.size == self.counter:\n",
    "            return True\n",
    "        else :\n",
    "            return False\n",
    "        \n",
    "    def push(self,item):\n",
    "        \n",
    "        if not self.isFull():\n",
    "            self.lst.append(item)\n",
    "            self.counter+=1\n",
    "        else:\n",
    "            print(\"stack is full\")\n",
    "        \n",
    "    def pop(self):\n",
    "        if not self.isEmpty():\n",
    "            self.counter-=1\n",
    "            return self.lst.pop()\n",
    "        \n",
    "        else:\n",
    "            print(\"stack is empty\")\n",
    "        \n",
    "        \n",
    "        \n",
    "    "
   ]
  },
  {
   "cell_type": "code",
   "execution_count": 77,
   "metadata": {},
   "outputs": [],
   "source": [
    "st10 = Stack()"
   ]
  },
  {
   "cell_type": "code",
   "execution_count": 78,
   "metadata": {},
   "outputs": [
    {
     "name": "stdout",
     "output_type": "stream",
     "text": [
      "stack is empty\n"
     ]
    }
   ],
   "source": [
    "st10.pop()"
   ]
  },
  {
   "cell_type": "code",
   "execution_count": 79,
   "metadata": {},
   "outputs": [],
   "source": [
    "st10.push(10)"
   ]
  },
  {
   "cell_type": "code",
   "execution_count": 80,
   "metadata": {},
   "outputs": [
    {
     "data": {
      "text/plain": [
       "False"
      ]
     },
     "execution_count": 80,
     "metadata": {},
     "output_type": "execute_result"
    }
   ],
   "source": [
    "st10.isEmpty()"
   ]
  },
  {
   "cell_type": "code",
   "execution_count": 81,
   "metadata": {},
   "outputs": [
    {
     "data": {
      "text/plain": [
       "10"
      ]
     },
     "execution_count": 81,
     "metadata": {},
     "output_type": "execute_result"
    }
   ],
   "source": [
    "st10.pop()"
   ]
  },
  {
   "cell_type": "markdown",
   "metadata": {},
   "source": [
    "# intialize queue"
   ]
  },
  {
   "cell_type": "code",
   "execution_count": 82,
   "metadata": {},
   "outputs": [],
   "source": [
    "class Queue:\n",
    "    \n",
    "    counter = 0\n",
    "    size = 10\n",
    "    lst = []  \n",
    "    \n",
    "    def isEmpty(self):\n",
    "        if self.counter == 0:\n",
    "            return True\n",
    "        else :\n",
    "            return False\n",
    "        \n",
    "    def isFull(self):\n",
    "        if self.size == self.counter:\n",
    "            return True\n",
    "        else :\n",
    "            return False\n",
    "        \n",
    "    def push(self,item):\n",
    "        \n",
    "        if not self.isFull():\n",
    "            self.lst.append(item)\n",
    "            self.counter+=1\n",
    "        else:\n",
    "            print(\"stack is full\")\n",
    "        \n",
    "    def pop(self):\n",
    "        if not self.isEmpty():\n",
    "            self.counter-=1\n",
    "            return self.lst.pop(0)\n",
    "        else:\n",
    "            print(\"stack is empty\")\n",
    "        \n",
    "        \n",
    "        \n",
    "    "
   ]
  },
  {
   "cell_type": "code",
   "execution_count": 83,
   "metadata": {},
   "outputs": [],
   "source": [
    "qu = Queue()"
   ]
  },
  {
   "cell_type": "code",
   "execution_count": 84,
   "metadata": {},
   "outputs": [
    {
     "data": {
      "text/plain": [
       "True"
      ]
     },
     "execution_count": 84,
     "metadata": {},
     "output_type": "execute_result"
    }
   ],
   "source": [
    "qu.isEmpty()"
   ]
  },
  {
   "cell_type": "markdown",
   "metadata": {},
   "source": [
    "# iterative DFS"
   ]
  },
  {
   "cell_type": "code",
   "execution_count": 85,
   "metadata": {},
   "outputs": [],
   "source": [
    "G ={\"a\":[\"b\",\"c\",\"e\"] , \"b\":[\"a\",\"d\"] , \"c\":[\"a\",\"d\",\"e\",\"f\"] , \"d\":[\"b\",\"c\",\"e\"] , \"e\":[\"a\",\"d\",\"c\"] , \"f\":[\"c\"]}"
   ]
  },
  {
   "cell_type": "code",
   "execution_count": 86,
   "metadata": {},
   "outputs": [],
   "source": [
    "def DFS(G , start , size=20):\n",
    "    st3 = Stack()\n",
    "    st3.size = size\n",
    "    visited = []\n",
    "    st3.push(start)\n",
    "    while not st3.isEmpty():\n",
    "        x= st3.pop()\n",
    "        if x not in visited:\n",
    "            visited.append(x)\n",
    "            for i in G[x]:\n",
    "                st3.push(i)\n",
    "        \n",
    "            \n",
    "            \n",
    "    return visited\n",
    "            \n"
   ]
  },
  {
   "cell_type": "code",
   "execution_count": 87,
   "metadata": {},
   "outputs": [
    {
     "data": {
      "text/plain": [
       "['a', 'e', 'c', 'f', 'd', 'b']"
      ]
     },
     "execution_count": 87,
     "metadata": {},
     "output_type": "execute_result"
    }
   ],
   "source": [
    "DFS(G,\"a\",10)"
   ]
  },
  {
   "cell_type": "markdown",
   "metadata": {},
   "source": [
    "# iterative BFS"
   ]
  },
  {
   "cell_type": "code",
   "execution_count": 88,
   "metadata": {},
   "outputs": [],
   "source": [
    "def BFS(G , start , size=20):\n",
    "    q = Queue()\n",
    "    q.size = size\n",
    "    visited = []\n",
    "    q.push(start)\n",
    "    while not q.isEmpty():\n",
    "        x= q.pop()\n",
    "        if x not in visited:\n",
    "            visited.append(x)\n",
    "            for i in G[x]:\n",
    "                q.push(i)\n",
    "      \n",
    "    return visited"
   ]
  },
  {
   "cell_type": "code",
   "execution_count": 89,
   "metadata": {},
   "outputs": [
    {
     "data": {
      "text/plain": [
       "['a', 'b', 'c', 'e', 'd', 'f']"
      ]
     },
     "execution_count": 89,
     "metadata": {},
     "output_type": "execute_result"
    }
   ],
   "source": [
    "BFS(G,'a',10)"
   ]
  },
  {
   "cell_type": "markdown",
   "metadata": {},
   "source": [
    "# Recursive DFS"
   ]
  },
  {
   "cell_type": "code",
   "execution_count": 90,
   "metadata": {},
   "outputs": [],
   "source": [
    "visited =[]"
   ]
  },
  {
   "cell_type": "code",
   "execution_count": 91,
   "metadata": {},
   "outputs": [],
   "source": [
    "def rec_DFS(G , start ,visited , size=20):\n",
    "    if start not in visited:\n",
    "        visited.append(start)\n",
    "        for i in G[start]:\n",
    "                rec_DFS(G,i,visited)\n",
    "        \n",
    "    return visited\n",
    "            "
   ]
  },
  {
   "cell_type": "code",
   "execution_count": 92,
   "metadata": {},
   "outputs": [
    {
     "data": {
      "text/plain": [
       "['a', 'b', 'd', 'c', 'e', 'f']"
      ]
     },
     "execution_count": 92,
     "metadata": {},
     "output_type": "execute_result"
    }
   ],
   "source": [
    "rec_DFS(G , \"a\" , visited)"
   ]
  },
  {
   "cell_type": "code",
   "execution_count": null,
   "metadata": {},
   "outputs": [],
   "source": []
  }
 ],
 "metadata": {
  "kernelspec": {
   "display_name": "Python 3",
   "language": "python",
   "name": "python3"
  },
  "language_info": {
   "codemirror_mode": {
    "name": "ipython",
    "version": 3
   },
   "file_extension": ".py",
   "mimetype": "text/x-python",
   "name": "python",
   "nbconvert_exporter": "python",
   "pygments_lexer": "ipython3",
   "version": "3.8.5"
  }
 },
 "nbformat": 4,
 "nbformat_minor": 4
}
